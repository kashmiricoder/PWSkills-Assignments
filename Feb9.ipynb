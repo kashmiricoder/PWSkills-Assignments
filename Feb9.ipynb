{
 "cells": [
  {
   "cell_type": "code",
   "execution_count": 2,
   "id": "2553aff6-071f-44f6-acbe-8fd547c1088f",
   "metadata": {},
   "outputs": [],
   "source": [
    "\n",
    "\n",
    "# Note: Create your assignment in Jupyter notebook and upload it to/ GitHub & share that GitHub repository\n",
    "# link through your dashboard. Make sure the repository is public."
   ]
  },
  {
   "cell_type": "code",
   "execution_count": 28,
   "id": "0fd3e0f9-7122-4b97-9a67-ea056c59419c",
   "metadata": {},
   "outputs": [],
   "source": [
    "# /Q1, Create a vehicle class with an init method having instance variables as name_of_vehicle, max_speed\n",
    "#  and average_of_vehicle.\n",
    "\n",
    "class vehicle:\n",
    "    def __init__(self,name_of_vehicle,max_speed,average_of_vehicle):\n",
    "        self.name_of_vehicle=name_of_vehicle\n",
    "        self.max_speed=max_speed\n",
    "        self.average_of_vehicle=average_of_vehicle"
   ]
  },
  {
   "cell_type": "code",
   "execution_count": 14,
   "id": "0b70f38f-26e3-479b-93e6-2a7a95e6de88",
   "metadata": {},
   "outputs": [],
   "source": [
    "# Q2. Create a child class car from the vehicle class created in Que 1, which will inherit the vehicle class.\n",
    "\n",
    "class sedan(vehicle):\n",
    "    def seating_capacity(self,capacity):\n",
    "        self.capacity=capacity\n",
    "        return f\"Name of vehicle:{self.name_of_vehicle} and capacity:{self.capacity}\""
   ]
  },
  {
   "cell_type": "code",
   "execution_count": 16,
   "id": "8aaf47b4-4cfd-46e3-9501-7c6d995455dd",
   "metadata": {},
   "outputs": [
    {
     "name": "stdout",
     "output_type": "stream",
     "text": [
      "Name of vehicle:honda and capacity:5\n"
     ]
    }
   ],
   "source": [
    "honda=sedan(\"honda\",\"100 MPH\",\"60MPH\")\n",
    "print(honda.seating_capacity(\"5\"))"
   ]
  },
  {
   "cell_type": "code",
   "execution_count": 17,
   "id": "4357f003-e41d-426a-a778-b1bc7b7ff925",
   "metadata": {},
   "outputs": [],
   "source": [
    " #Q3. What is multiple inheritance? Write a python code to demonstrate multiple inheritance."
   ]
  },
  {
   "cell_type": "code",
   "execution_count": 30,
   "id": "32ce4a80-b754-4b35-8811-672369f62449",
   "metadata": {},
   "outputs": [
    {
     "name": "stdout",
     "output_type": "stream",
     "text": [
      " I am child\n"
     ]
    }
   ],
   "source": [
    "# When a child class has more than one parent class, it is called multiple inheritance:\n",
    "#for example\n",
    "class P1:\n",
    "    pass\n",
    "class P2:\n",
    "    pass\n",
    "class Child(P1,P2):\n",
    "    print(\" I am child\")\n",
    "\n",
    "#here Child class inherits both P1 and P2, is an example of multiple inheritance"
   ]
  },
  {
   "cell_type": "code",
   "execution_count": 35,
   "id": "a9ad5344-db74-4521-8369-f1a983d76a2b",
   "metadata": {
    "tags": []
   },
   "outputs": [
    {
     "name": "stdout",
     "output_type": "stream",
     "text": [
      "Your balance is 10,000\n",
      "Your balance is 20,000\n"
     ]
    }
   ],
   "source": [
    "# Q4. What are getter and setter in python? Create a class and create a getter and a setter method in this\n",
    "# class\n",
    "\n",
    "# Ans: Getter and setter are methods in OOPS in python helps to allow user to edit private variables without giving them access to those variables directly\n",
    "# getter method helps read the variable and setter method helps set the variable\n",
    "#eg\n",
    "\n",
    "class Bank:\n",
    "    def __init__(self,account,balance):\n",
    "        self.account=account\n",
    "        self.__balance=balance\n",
    "               \n",
    "#setter to set balance\n",
    "    def balance_change(self,balance):\n",
    "        self.__balance=balance\n",
    "        self.balance_get()\n",
    "        \n",
    "#getter to get balance\n",
    "    def balance_get(self):\n",
    "        print(\"Your balance is {0}\".format(self.__balance))\n",
    "\n",
    "cust1=Bank(\"120202\",\"10,000\")\n",
    "cust1.balance_get()\n",
    "cust1.balance_change(\"20,000\")\n",
    "    "
   ]
  },
  {
   "cell_type": "code",
   "execution_count": 46,
   "id": "3452c964-14c6-447f-862e-d93fdf0fc290",
   "metadata": {},
   "outputs": [
    {
     "name": "stdout",
     "output_type": "stream",
     "text": [
      "my age is young\n"
     ]
    }
   ],
   "source": [
    "# Q5.What is method overriding in python? Write a python code to demonstrate method overriding.\n",
    "# It is an OOPS concept.\n",
    "# After inherting a parent class, if the child class has class methods of same name as that of the parent class, they are overwritten by the child class. \n",
    "# Not just methods, it is applicable to the variables and the staticmethods too.\n",
    "\n",
    "#e.g:\n",
    "\n",
    "class Parent:\n",
    "    \n",
    "    def age():\n",
    "        print(\"my age is old\")\n",
    "class Child(Parent):\n",
    "    def age():\n",
    "        print(\"my age is young\")\n",
    "        \n",
    "Chad=Child()\n",
    "Child.age()\n",
    "\n",
    "#both classes have age method, but the age method for the child class overrides the one of the parent"
   ]
  },
  {
   "cell_type": "code",
   "execution_count": null,
   "id": "565ee18e-ce7f-4588-a496-a52dfa78feed",
   "metadata": {},
   "outputs": [],
   "source": []
  }
 ],
 "metadata": {
  "kernelspec": {
   "display_name": "Python 3 (ipykernel)",
   "language": "python",
   "name": "python3"
  },
  "language_info": {
   "codemirror_mode": {
    "name": "ipython",
    "version": 3
   },
   "file_extension": ".py",
   "mimetype": "text/x-python",
   "name": "python",
   "nbconvert_exporter": "python",
   "pygments_lexer": "ipython3",
   "version": "3.10.8"
  }
 },
 "nbformat": 4,
 "nbformat_minor": 5
}
