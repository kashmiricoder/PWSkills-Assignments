{
  "nbformat": 4,
  "nbformat_minor": 0,
  "metadata": {
    "colab": {
      "provenance": [],
      "authorship_tag": "ABX9TyPYXmagmSI6WkUanemQ+CWK",
      "include_colab_link": true
    },
    "kernelspec": {
      "name": "python3",
      "display_name": "Python 3"
    },
    "language_info": {
      "name": "python"
    }
  },
  "cells": [
    {
      "cell_type": "markdown",
      "metadata": {
        "id": "view-in-github",
        "colab_type": "text"
      },
      "source": [
        "<a href=\"https://colab.research.google.com/github/kashmiricoder/PWSkills-Assignments/blob/main/WebAPI.ipynb\" target=\"_parent\"><img src=\"https://colab.research.google.com/assets/colab-badge.svg\" alt=\"Open In Colab\"/></a>"
      ]
    },
    {
      "cell_type": "code",
      "execution_count": 1,
      "metadata": {
        "colab": {
          "base_uri": "https://localhost:8080/"
        },
        "id": "ffBq8a9orQ18",
        "outputId": "4ae2d1aa-2bbf-40ba-8b8e-5721889acb06"
      },
      "outputs": [
        {
          "output_type": "stream",
          "name": "stdout",
          "text": [
            "Requirement already satisfied: requests in /usr/local/lib/python3.10/dist-packages (2.31.0)\n",
            "Requirement already satisfied: charset-normalizer<4,>=2 in /usr/local/lib/python3.10/dist-packages (from requests) (3.3.2)\n",
            "Requirement already satisfied: idna<4,>=2.5 in /usr/local/lib/python3.10/dist-packages (from requests) (3.7)\n",
            "Requirement already satisfied: urllib3<3,>=1.21.1 in /usr/local/lib/python3.10/dist-packages (from requests) (2.0.7)\n",
            "Requirement already satisfied: certifi>=2017.4.17 in /usr/local/lib/python3.10/dist-packages (from requests) (2024.2.2)\n"
          ]
        }
      ],
      "source": [
        "! pip install requests"
      ]
    },
    {
      "cell_type": "code",
      "source": [
        "#google maps API"
      ],
      "metadata": {
        "id": "bOx5zuj4sbBk"
      },
      "execution_count": 11,
      "outputs": []
    },
    {
      "cell_type": "code",
      "source": [],
      "metadata": {
        "id": "dFk2DBlg0hKo"
      },
      "execution_count": null,
      "outputs": []
    },
    {
      "cell_type": "code",
      "source": [
        "#Requests methods -> get,put,delete\n",
        "#response attributes -> .text, .status_code, .headers, .encoding"
      ],
      "metadata": {
        "id": "vmP-MvS6WAKC"
      },
      "execution_count": null,
      "outputs": []
    },
    {
      "cell_type": "code",
      "source": [
        "import requests\n",
        "response=requests.get('https://codingninjas.in/api/v3/courses')\n",
        "data=response.text\n",
        "type(data)"
      ],
      "metadata": {
        "colab": {
          "base_uri": "https://localhost:8080/"
        },
        "id": "y7qQ8uLXfm38",
        "outputId": "622347fd-32ae-48d3-be8c-35d7872f1b37"
      },
      "execution_count": 41,
      "outputs": [
        {
          "output_type": "execute_result",
          "data": {
            "text/plain": [
              "str"
            ]
          },
          "metadata": {},
          "execution_count": 41
        }
      ]
    },
    {
      "cell_type": "code",
      "source": [
        "import requests\n",
        "response=requests.get('https://codingninjas.in/api/v3/courses')\n",
        "header_inf=response.headers\n",
        "\n"
      ],
      "metadata": {
        "id": "siRJcrJYtDw8"
      },
      "execution_count": 40,
      "outputs": []
    },
    {
      "cell_type": "code",
      "source": [
        "#JSON to Python\n",
        "import json\n",
        "\n",
        "json_data='{\"name\":\"Paras\",\"age\":20,\"cars\":[\"lambpo\",\"ferrari\"]}'\n",
        "# print(type(json_data)) check the type of a json string\n",
        "python_data=json.loads(json_data)\n",
        "python_data['cars']"
      ],
      "metadata": {
        "colab": {
          "base_uri": "https://localhost:8080/"
        },
        "id": "a2n9WafgV_nh",
        "outputId": "bb79c11c-bf7c-4756-83c4-739794c45a41"
      },
      "execution_count": 42,
      "outputs": [
        {
          "output_type": "stream",
          "name": "stdout",
          "text": [
            "<class 'str'>\n"
          ]
        },
        {
          "output_type": "execute_result",
          "data": {
            "text/plain": [
              "['lambpo', 'ferrari']"
            ]
          },
          "metadata": {},
          "execution_count": 42
        }
      ]
    },
    {
      "cell_type": "code",
      "source": [
        "json_data1='{\"rollno\":23.9}'\n",
        "print(json.loads(json_data1)['rollno'])"
      ],
      "metadata": {
        "colab": {
          "base_uri": "https://localhost:8080/"
        },
        "id": "JN9bX8Exasw7",
        "outputId": "f0518348-965b-48fa-9c54-2c58553d6d20"
      },
      "execution_count": 22,
      "outputs": [
        {
          "output_type": "stream",
          "name": "stdout",
          "text": [
            "23.9\n"
          ]
        }
      ]
    },
    {
      "cell_type": "code",
      "source": [
        "#Dict of Dict\n",
        "\n",
        "json_data1='{\"student\":{\"name\":\"Paras\",\"age\":20,\"cars\":[\"lambpo\",\"ferrari\"]}}'\n",
        "data=json.loads(json_data1)\n",
        "student_details=data[\"student\"]\n",
        "\n",
        "print(student_details)"
      ],
      "metadata": {
        "colab": {
          "base_uri": "https://localhost:8080/"
        },
        "id": "-BBa0SSIbntU",
        "outputId": "cc7cdf25-6f51-4825-bbef-89b7cce7410d"
      },
      "execution_count": 27,
      "outputs": [
        {
          "output_type": "stream",
          "name": "stdout",
          "text": [
            "{'name': 'Paras', 'age': 20, 'cars': ['lambpo', 'ferrari']}\n"
          ]
        }
      ]
    },
    {
      "cell_type": "code",
      "source": [
        "#Conversions\n",
        "#arrays --> array/tuples\n",
        "js_data='{\"name\":[1]}'\n",
        "data=json.loads(js_data)\n",
        "type(data['name'])"
      ],
      "metadata": {
        "colab": {
          "base_uri": "https://localhost:8080/"
        },
        "id": "8m2n5MvXa-vS",
        "outputId": "2f78c6de-f7eb-4611-9848-0c8c4a268dcb"
      },
      "execution_count": 35,
      "outputs": [
        {
          "output_type": "execute_result",
          "data": {
            "text/plain": [
              "list"
            ]
          },
          "metadata": {},
          "execution_count": 35
        }
      ]
    },
    {
      "cell_type": "markdown",
      "source": [
        "##Extracting data from a website\n"
      ],
      "metadata": {
        "id": "VJTAs4CZgi8W"
      }
    },
    {
      "cell_type": "code",
      "source": [
        "#Getting all course from Coding Ninjas website\n",
        "\n",
        "import requests\n",
        "\n",
        "response = requests.get('https://api.codingninjas.com/api/v3/courses')\n",
        "# py_data=json.loads(response.text) Longer Method\n",
        "py_data=response.json()\n",
        "all_course=py_data['data']['courses']\n",
        "\n",
        "for i in all_course:\n",
        "  print(i['id'],i['title'])"
      ],
      "metadata": {
        "colab": {
          "base_uri": "https://localhost:8080/"
        },
        "id": "gys9x6BBkZTu",
        "outputId": "c38a9977-7462-429a-efb7-fe8ae548c8b7"
      },
      "execution_count": 75,
      "outputs": [
        {
          "output_type": "stream",
          "name": "stdout",
          "text": [
            "6 Machine Learning\n",
            "42 Premium Web Dev Course\n",
            "41 Premium Competitive Course\n",
            "45 Premium Android Course\n",
            "44 Premium Machine Learning Course\n",
            "40 Data structures and Algorithms [C++/Java/Python]\n",
            "1 C++ & Data Structures\n",
            "135 C++ & Data Structures\n",
            "73 System Design Course\n",
            "34 Front End (React)\n",
            "43 Premium Data Science Course\n",
            "16 Competitive Programmer\n",
            "12 Web Dev (Full Stack)\n",
            "2 Java & Data Structures\n",
            "35 Android Developer\n",
            "36 Python & Web Dev (MERN)\n",
            "13 Data Science\n",
            "66 Grokking the Operating Systems Interview\n",
            "10 Competitive Programming\n",
            "17 C++ & Web Dev (Node.js)\n",
            "33 Android (Kotlin)\n",
            "18 Data Scientist\n",
            "19 Machine Learning\n",
            "21 Aptitude Preparation\n"
          ]
        }
      ]
    },
    {
      "cell_type": "code",
      "source": [
        "#dog API\n",
        "#List all breeds\n",
        "\n",
        "response=requests.get('https://dog.ceo/api/breeds/list/all')\n",
        "python_data=response.json()\n",
        "dogs=python_data['message']\n",
        "for keys,values in dogs.items():\n",
        "  print(keys,\"| Number of subbreeds:\",len(values))\n",
        "\n"
      ],
      "metadata": {
        "colab": {
          "base_uri": "https://localhost:8080/"
        },
        "collapsed": true,
        "id": "QbuSB15cob54",
        "outputId": "e1e26336-6bce-465d-da52-fa4554abb3e1"
      },
      "execution_count": 84,
      "outputs": [
        {
          "output_type": "stream",
          "name": "stdout",
          "text": [
            "affenpinscher | Number of subbreeds: 0\n",
            "african | Number of subbreeds: 0\n",
            "airedale | Number of subbreeds: 0\n",
            "akita | Number of subbreeds: 0\n",
            "appenzeller | Number of subbreeds: 0\n",
            "australian | Number of subbreeds: 1\n",
            "basenji | Number of subbreeds: 0\n",
            "beagle | Number of subbreeds: 0\n",
            "bluetick | Number of subbreeds: 0\n",
            "borzoi | Number of subbreeds: 0\n",
            "bouvier | Number of subbreeds: 0\n",
            "boxer | Number of subbreeds: 0\n",
            "brabancon | Number of subbreeds: 0\n",
            "briard | Number of subbreeds: 0\n",
            "buhund | Number of subbreeds: 1\n",
            "bulldog | Number of subbreeds: 3\n",
            "bullterrier | Number of subbreeds: 1\n",
            "cattledog | Number of subbreeds: 1\n",
            "chihuahua | Number of subbreeds: 0\n",
            "chow | Number of subbreeds: 0\n",
            "clumber | Number of subbreeds: 0\n",
            "cockapoo | Number of subbreeds: 0\n",
            "collie | Number of subbreeds: 1\n",
            "coonhound | Number of subbreeds: 0\n",
            "corgi | Number of subbreeds: 1\n",
            "cotondetulear | Number of subbreeds: 0\n",
            "dachshund | Number of subbreeds: 0\n",
            "dalmatian | Number of subbreeds: 0\n",
            "dane | Number of subbreeds: 1\n",
            "deerhound | Number of subbreeds: 1\n",
            "dhole | Number of subbreeds: 0\n",
            "dingo | Number of subbreeds: 0\n",
            "doberman | Number of subbreeds: 0\n",
            "elkhound | Number of subbreeds: 1\n",
            "entlebucher | Number of subbreeds: 0\n",
            "eskimo | Number of subbreeds: 0\n",
            "finnish | Number of subbreeds: 1\n",
            "frise | Number of subbreeds: 1\n",
            "germanshepherd | Number of subbreeds: 0\n",
            "greyhound | Number of subbreeds: 1\n",
            "groenendael | Number of subbreeds: 0\n",
            "havanese | Number of subbreeds: 0\n",
            "hound | Number of subbreeds: 7\n",
            "husky | Number of subbreeds: 0\n",
            "keeshond | Number of subbreeds: 0\n",
            "kelpie | Number of subbreeds: 0\n",
            "komondor | Number of subbreeds: 0\n",
            "kuvasz | Number of subbreeds: 0\n",
            "labradoodle | Number of subbreeds: 0\n",
            "labrador | Number of subbreeds: 0\n",
            "leonberg | Number of subbreeds: 0\n",
            "lhasa | Number of subbreeds: 0\n",
            "malamute | Number of subbreeds: 0\n",
            "malinois | Number of subbreeds: 0\n",
            "maltese | Number of subbreeds: 0\n",
            "mastiff | Number of subbreeds: 3\n",
            "mexicanhairless | Number of subbreeds: 0\n",
            "mix | Number of subbreeds: 0\n",
            "mountain | Number of subbreeds: 2\n",
            "newfoundland | Number of subbreeds: 0\n",
            "otterhound | Number of subbreeds: 0\n",
            "ovcharka | Number of subbreeds: 1\n",
            "papillon | Number of subbreeds: 0\n",
            "pekinese | Number of subbreeds: 0\n",
            "pembroke | Number of subbreeds: 0\n",
            "pinscher | Number of subbreeds: 1\n",
            "pitbull | Number of subbreeds: 0\n",
            "pointer | Number of subbreeds: 2\n",
            "pomeranian | Number of subbreeds: 0\n",
            "poodle | Number of subbreeds: 4\n",
            "pug | Number of subbreeds: 0\n",
            "puggle | Number of subbreeds: 0\n",
            "pyrenees | Number of subbreeds: 0\n",
            "redbone | Number of subbreeds: 0\n",
            "retriever | Number of subbreeds: 4\n",
            "ridgeback | Number of subbreeds: 1\n",
            "rottweiler | Number of subbreeds: 0\n",
            "saluki | Number of subbreeds: 0\n",
            "samoyed | Number of subbreeds: 0\n",
            "schipperke | Number of subbreeds: 0\n",
            "schnauzer | Number of subbreeds: 2\n",
            "segugio | Number of subbreeds: 1\n",
            "setter | Number of subbreeds: 3\n",
            "sharpei | Number of subbreeds: 0\n",
            "sheepdog | Number of subbreeds: 2\n",
            "shiba | Number of subbreeds: 0\n",
            "shihtzu | Number of subbreeds: 0\n",
            "spaniel | Number of subbreeds: 7\n",
            "spitz | Number of subbreeds: 1\n",
            "springer | Number of subbreeds: 1\n",
            "stbernard | Number of subbreeds: 0\n",
            "terrier | Number of subbreeds: 23\n",
            "tervuren | Number of subbreeds: 0\n",
            "vizsla | Number of subbreeds: 0\n",
            "waterdog | Number of subbreeds: 1\n",
            "weimaraner | Number of subbreeds: 0\n",
            "whippet | Number of subbreeds: 0\n",
            "wolfhound | Number of subbreeds: 1\n"
          ]
        }
      ]
    },
    {
      "cell_type": "code",
      "source": [
        "#getting a random dog image\n",
        "\n",
        "response=requests.get('https://dog.ceo/api/breeds/image/random')\n",
        "py_data=response.json()\n",
        "\n",
        "dog_url=py_data['message']\n",
        "image=requests.get(dog_url)\n",
        "\n",
        "with open(\"photo.jpg\",\"wb\") as file:\n",
        "  doggypic=file.write(image.content)\n",
        ""
      ],
      "metadata": {
        "id": "nCJNNWtjqnAH"
      },
      "execution_count": 87,
      "outputs": []
    },
    {
      "cell_type": "code",
      "source": [
        " #countries\n",
        "params={}\n",
        "response=requests.get('https://api.openaq.org/v2/cities',params=params)\n",
        "py_data=response.json()\n",
        "py_data"
      ],
      "metadata": {
        "colab": {
          "base_uri": "https://localhost:8080/",
          "height": 53
        },
        "id": "hzzUnFBZsT9Q",
        "outputId": "c8f807cd-3fb6-423d-dc4c-f4e100058ff0"
      },
      "execution_count": 99,
      "outputs": [
        {
          "output_type": "execute_result",
          "data": {
            "text/plain": [
              "\"1 validation error for CitiesV1\\ncountry\\n  List should have at least 2 items after validation, not 1 [type=too_short, input_value=['US'], input_type=list]\\n    For further information visit https://errors.pydantic.dev/2.1.2/v/too_short\""
            ],
            "application/vnd.google.colaboratory.intrinsic+json": {
              "type": "string"
            }
          },
          "metadata": {},
          "execution_count": 99
        }
      ]
    },
    {
      "cell_type": "markdown",
      "source": [],
      "metadata": {
        "id": "Qj5CktGJsThL"
      }
    },
    {
      "cell_type": "code",
      "source": [
        "#NASA KEYT\n",
        "\n",
        "response=requests.get('https://api.nasa.gov/mars-photos/api/v1/rovers/curiosity/photos?sol=1000&api_key=DEMO_KEY')\n",
        "py_data=response.json()\n",
        "l=py_data['photos']\n",
        "urls=[]\n",
        "\n",
        "for i in range(5):\n",
        "  urls.append(l[i]['img_src'])\n",
        "\n",
        "for j in range(5):\n",
        "  maal=requests.get(urls[j])\n",
        "  with open(f\"pic{j}.jpg\",\"wb\") as test:\n",
        "    test.write(maal.content)\n",
        "\n",
        "\n",
        "\n",
        "  # with open(\"nasa.jpg\",\"wb\") as file:\n",
        "  #   file.write(img.content)\n"
      ],
      "metadata": {
        "id": "zM5s2Pj66ZSz"
      },
      "execution_count": 114,
      "outputs": []
    },
    {
      "cell_type": "markdown",
      "source": [
        "POST REQUEST"
      ],
      "metadata": {
        "id": "86PVpExA-66i"
      }
    },
    {
      "cell_type": "code",
      "source": [
        "r=requests.post('https://jsonplaceholder.typicode.com/posts',data=[(\"name\",\"raina\"),(\"gender\",\"amale\")])\n",
        "r.status_code\n",
        "r.text"
      ],
      "metadata": {
        "colab": {
          "base_uri": "https://localhost:8080/",
          "height": 35
        },
        "id": "VyIkrSKh-5Yl",
        "outputId": "6c93f6b2-ef06-4a9c-e528-1fa5c4d41925"
      },
      "execution_count": 120,
      "outputs": [
        {
          "output_type": "execute_result",
          "data": {
            "text/plain": [
              "'{\\n  \"name\": \"raina\",\\n  \"gender\": \"amale\",\\n  \"id\": 101\\n}'"
            ],
            "application/vnd.google.colaboratory.intrinsic+json": {
              "type": "string"
            }
          },
          "metadata": {},
          "execution_count": 120
        }
      ]
    },
    {
      "cell_type": "code",
      "source": [
        "q=[12,14,5,51,2]\n",
        "q.sort()\n",
        "q"
      ],
      "metadata": {
        "colab": {
          "base_uri": "https://localhost:8080/"
        },
        "id": "p7fGcqJjdL0q",
        "outputId": "fafc449f-72fa-4d81-ee34-942d0c56a258"
      },
      "execution_count": 3,
      "outputs": [
        {
          "output_type": "execute_result",
          "data": {
            "text/plain": [
              "[2, 5, 12, 14, 51]"
            ]
          },
          "metadata": {},
          "execution_count": 3
        }
      ]
    },
    {
      "cell_type": "code",
      "source": [],
      "metadata": {
        "id": "yZD2Nfi0m44c"
      },
      "execution_count": null,
      "outputs": []
    },
    {
      "cell_type": "markdown",
      "source": [
        "HTTP BASIC AUTH\n"
      ],
      "metadata": {
        "id": "caoow4gBrTZP"
      }
    },
    {
      "cell_type": "code",
      "source": [],
      "metadata": {
        "id": "hvWlUvbY0d8h"
      },
      "execution_count": null,
      "outputs": []
    },
    {
      "cell_type": "code",
      "source": [
        "import requests\n",
        "from requests.auth import HTTPDigestAuth\n",
        "url = 'https://httpbin.org/digest-auth/auth/user/pass'\n",
        "requests.get(url, auth=HTTPDigestAuth('user', 'pass'))"
      ],
      "metadata": {
        "colab": {
          "base_uri": "https://localhost:8080/"
        },
        "id": "Y0Kg0Z4ZrWX4",
        "outputId": "4848cc5b-a3c1-4a03-b5c1-e477d52ddb00"
      },
      "execution_count": 8,
      "outputs": [
        {
          "output_type": "execute_result",
          "data": {
            "text/plain": [
              "<Response [200]>"
            ]
          },
          "metadata": {},
          "execution_count": 8
        }
      ]
    }
  ]
}